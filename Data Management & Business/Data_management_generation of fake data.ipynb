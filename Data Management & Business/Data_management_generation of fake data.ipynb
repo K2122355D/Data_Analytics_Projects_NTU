{
 "cells": [
  {
   "cell_type": "code",
   "execution_count": 1,
   "id": "1e271976",
   "metadata": {},
   "outputs": [],
   "source": [
    "import random\n",
    "from random import randint\n",
    "import string\n",
    "import faker\n",
    "from faker import Faker \n",
    "import datetime\n",
    "from datetime import datetime,timedelta\n",
    "import csv"
   ]
  },
  {
   "cell_type": "code",
   "execution_count": 211,
   "id": "01431e20",
   "metadata": {},
   "outputs": [],
   "source": [
    "f = Faker()"
   ]
  },
  {
   "cell_type": "code",
   "execution_count": 212,
   "id": "e10caa2c",
   "metadata": {},
   "outputs": [],
   "source": [
    "#random date between two dates\n",
    "\n",
    "def r_date(s,e):\n",
    "    return datetime(s.year,s.month,s.day) + timedelta(days=random.randint(0,(e-s).days))"
   ]
  },
  {
   "cell_type": "code",
   "execution_count": 213,
   "id": "fdd66da4",
   "metadata": {},
   "outputs": [],
   "source": [
    "#r_date(datetime(2018,1,1),datetime(2022,12,31))"
   ]
  },
  {
   "cell_type": "code",
   "execution_count": 214,
   "id": "b5d0622e",
   "metadata": {},
   "outputs": [],
   "source": [
    "def customer_id(length=10):\n",
    "    characters = string.ascii_uppercase + string.digits\n",
    "    return ''.join(random.choices(characters,k=length))"
   ]
  },
  {
   "cell_type": "code",
   "execution_count": 215,
   "id": "71d3b1c3",
   "metadata": {},
   "outputs": [],
   "source": [
    "#generate customer data\n",
    "\n",
    "#from Singapore\n",
    "def customer_singapore():\n",
    "    country = \"Singapore\"\n",
    "    return {\n",
    "        \"Customer_id\":f.uuid4(),\n",
    "        \"First_Name\":f.first_name(),\n",
    "        \"Last_Name\":f.last_name(),\n",
    "        \"Email\":f.email(),\n",
    "        \"Phone No.\":f.phone_number(),\n",
    "        \"Country_of_Residence\": country,\n",
    "        \"Age\": random.randint(18,70)\n",
    "    }"
   ]
  },
  {
   "cell_type": "code",
   "execution_count": 216,
   "id": "c8eb157c",
   "metadata": {},
   "outputs": [],
   "source": [
    "#from Asia\n",
    "def customer_asia():\n",
    "    country = random.choices([\"China\",\"India\",\"Indonesia\",\"Japan\",\"Thailand\",\"UK\",\"Malaysia\",\"Philippines\",\n",
    "                             \"Australia\",\"USA\",\"Vietnam\",\"New Zealand\",\"France\",\"Italy\",\"Spain\"],weights=[3,9,3,8,6,9,4,5,7,10,1,1,1,1,1],k=1)[0]\n",
    "     \n",
    "    #country = f.random_element(elements=country_weights)\n",
    " \n",
    "    return {\n",
    "        \"Customer_id\":f.uuid4(),\n",
    "        \"First_Name\":f.first_name(),\n",
    "        \"Last_Name\":f.last_name(),\n",
    "        \"Email\":f.email(),\n",
    "        \"Phone No.\":f.phone_number(),\n",
    "        \"Country_of_Residence\": country,\n",
    "        \"Age\": random.randint(18,70)\n",
    "    }"
   ]
  },
  {
   "cell_type": "code",
   "execution_count": 217,
   "id": "2d3324a6",
   "metadata": {},
   "outputs": [],
   "source": [
    "#from anywhere\n",
    "def customer():\n",
    "    return {\n",
    "        \"Customer_id\":f.uuid4(),\n",
    "        \"First_Name\":f.first_name(),\n",
    "        \"Last_Name\":f.last_name(),\n",
    "        \"Email\":f.email(),\n",
    "        \"Phone No.\":f.phone_number(),\n",
    "        \"Country_of_Residence\": f.country(),\n",
    "        \"Age\": random.randint(18,70)\n",
    "    }"
   ]
  },
  {
   "cell_type": "code",
   "execution_count": 218,
   "id": "24ecc366",
   "metadata": {},
   "outputs": [],
   "source": [
    "#generate the reservation data\n",
    "def reservation(customer_id):\n",
    "    #num_rooms = random.randint(1,5)\n",
    "    \n",
    "    num_people = random.randint(1,3)\n",
    "    \n",
    "    method_of_outreach = random.choices([\"Websearch\",\"Instagram\",\"Facebook\",\"TikTok\",\"Email\",\"Google Ads\"],weights=[3,2,1,2,1,0.5],k=1)[0]\n",
    "    #take note to change the date and the # of days for that year\n",
    "    checkin_date = r_date(datetime(2022,1,1),datetime(2022,1,31))\n",
    "    \n",
    "    checkout_date = checkin_date + timedelta(days=randint(1,10))\n",
    "    \n",
    "    #reservation can be made 2 months in advance from the checkin date\n",
    "    reservation_date = r_date(checkin_date - timedelta(days=60),checkin_date)\n",
    "    \n",
    "    return {\n",
    "        \"Reservation_id\":f.uuid4(),\n",
    "        \"Customer_id\": customer_id,\n",
    "        \"Number_of_people\": num_people,\n",
    "        \"Method_of_Outreach\": method_of_outreach,\n",
    "        \"CheckIn_Date\": checkin_date,\n",
    "        \"CheckOut_Date\": checkout_date,\n",
    "        \"Reservation_Date\": reservation_date,\n",
    "    }\n",
    "    \n",
    "    "
   ]
  },
  {
   "cell_type": "code",
   "execution_count": 219,
   "id": "edf46e69",
   "metadata": {},
   "outputs": [],
   "source": [
    "#generate room ID\n",
    "\n",
    "def room_id():\n",
    "    return ''.join(random.choices(string.ascii_lowercase + string.digits,k=8))\n",
    "\n",
    "#reservation details entity\n",
    "def reservation_detail(reservation_id):\n",
    "    #add some weights to ensure that expensive rooms are selected less\n",
    "    #SD-Standard,DB-Double,DL-Delux,ST-Suite\n",
    "    room_type = random.choices([\"SD\",\"DB\",\"DL\",\"ST\"],weights=[3,2,1,0.5],k=1)[0]\n",
    "    price_per_night = 0\n",
    "    if room_type == \"SD\":\n",
    "        price_per_night = random.randint(100,200)\n",
    "    elif room_type == \"DB\":\n",
    "        price_per_night = random.randint(150,250)\n",
    "    elif room_type == \"DL\":\n",
    "        price_per_night = random.randint(200,300)\n",
    "    elif room_type == \"ST\":\n",
    "        price_per_night = random.randint(250,350)\n",
    "        \n",
    "    return {\n",
    "        \"Reservation_id\": reservation_id,\n",
    "        \"Room_id\":room_id(),\n",
    "        \"Room_Type\":room_type,\n",
    "        \"Price_Per_Night\":price_per_night\n",
    "    }"
   ]
  },
  {
   "cell_type": "code",
   "execution_count": 220,
   "id": "76497c61",
   "metadata": {},
   "outputs": [],
   "source": [
    "#print(reservation_detail(33333))"
   ]
  },
  {
   "cell_type": "code",
   "execution_count": 221,
   "id": "9a310ad9",
   "metadata": {},
   "outputs": [],
   "source": [
    "#this one only run once because it is meant to include all the sum of the 12 months in the year\n",
    "#customers_all = []\n",
    "#reservations_all = []\n",
    "#reservation_details_all = []\n",
    "#payment_details_all = []"
   ]
  },
  {
   "cell_type": "code",
   "execution_count": 222,
   "id": "bf0eb7be",
   "metadata": {},
   "outputs": [],
   "source": [
    "customers = []\n",
    "n = int(193*31*0.6) #need to change the days of the year accordingly and also the % of reservations booked\n",
    "for i in range(n):\n",
    "    if i <= n*0.35: #out of these reservations booked need to change based on the % of it from SG\n",
    "        customers.append(customer_singapore())\n",
    "    else:\n",
    "        customers.append(customer_asia())\n"
   ]
  },
  {
   "cell_type": "code",
   "execution_count": 223,
   "id": "a3096082",
   "metadata": {},
   "outputs": [],
   "source": [
    "reservations = []\n",
    "reservation_details = []\n",
    "payment_details = []"
   ]
  },
  {
   "cell_type": "code",
   "execution_count": 224,
   "id": "08a407e4",
   "metadata": {},
   "outputs": [],
   "source": [
    "#payment detail entity\n",
    "def payment_detail(reservation_id,reservation_date,checkout_date,total_amount):\n",
    "    payment_method = random.choices([\"AMEX\",\"VISA\",\"MasterCard\",\"Debit Card\",\"PayNow\",\"Cash\",\"GrabPay\"],\n",
    "                                    weights=[1.1,1.65,3.7,0.5,0.75,0.05,1.15],k=1)[0]\n",
    "    payment_date = r_date(reservation_date,checkout_date)\n",
    "    return {\n",
    "        \"Payment_id\": f.uuid4(),\n",
    "        \"Reservation_id\":reservation_id,\n",
    "        \"Total Amount\":total_amount,\n",
    "        \"Date\":payment_date,\n",
    "        \"Method\": payment_method\n",
    "    }"
   ]
  },
  {
   "cell_type": "code",
   "execution_count": 225,
   "id": "144cf65f",
   "metadata": {},
   "outputs": [],
   "source": [
    "for i in customers:\n",
    "    #b = random.choices([1,2],weights=[7,3],k=1)[0]\n",
    "    for j in range(1):\n",
    "        reservation_data = reservation(i[\"Customer_id\"])\n",
    "        reservations.append(reservation_data)\n",
    "        total_amount = 0\n",
    "        \n",
    "        for k in range(1):\n",
    "            reservation_room = reservation_detail(reservation_data[\"Reservation_id\"])\n",
    "            reservation_details.append(reservation_room)\n",
    "            total_amount = total_amount + reservation_room[\"Price_Per_Night\"]*1.08\n",
    "        payment_details.append(payment_detail(reservation_data[\"Reservation_id\"],reservation_data[\"Reservation_Date\"],\n",
    "                                              reservation_data[\"CheckOut_Date\"],total_amount))\n",
    "        "
   ]
  },
  {
   "cell_type": "code",
   "execution_count": 226,
   "id": "86f85196",
   "metadata": {
    "scrolled": false
   },
   "outputs": [
    {
     "name": "stdout",
     "output_type": "stream",
     "text": [
      "3589\n"
     ]
    }
   ],
   "source": [
    "print(len(reservation_details))"
   ]
  },
  {
   "cell_type": "code",
   "execution_count": 227,
   "id": "0e629fea",
   "metadata": {},
   "outputs": [],
   "source": [
    "customers_all.extend(customers)\n",
    "reservations_all.extend(reservations)\n",
    "reservation_details_all.extend(reservation_details)\n",
    "payment_details_all.extend(payment_details)"
   ]
  },
  {
   "cell_type": "code",
   "execution_count": 228,
   "id": "04115ec4",
   "metadata": {},
   "outputs": [],
   "source": [
    "def write_to_csv(data, filename):\n",
    "    with open(filename, 'w', newline='') as file:\n",
    "        writer = csv.DictWriter(file, fieldnames=data[0].keys())\n",
    "        writer.writeheader()\n",
    "        for item in data:\n",
    "            writer.writerow(item)"
   ]
  },
  {
   "cell_type": "code",
   "execution_count": 229,
   "id": "583d8793",
   "metadata": {},
   "outputs": [],
   "source": [
    "write_to_csv(customers_all, 'C:/Users/AN000/OneDrive/Desktop/Masters Program/Trimester 2 (13 Nov - 24 Feb 2024)/MH6341 - Data Management & Business [1.5 AU]/Team Project (Due 24 Feb)/customers_2022.csv')\n",
    "write_to_csv(reservations_all, 'C:/Users/AN000/OneDrive/Desktop/Masters Program/Trimester 2 (13 Nov - 24 Feb 2024)/MH6341 - Data Management & Business [1.5 AU]/Team Project (Due 24 Feb)/reservations_2022.csv')\n",
    "write_to_csv(reservation_details_all, 'C:/Users/AN000/OneDrive/Desktop/Masters Program/Trimester 2 (13 Nov - 24 Feb 2024)/MH6341 - Data Management & Business [1.5 AU]/Team Project (Due 24 Feb)/reservation_details_2022.csv')\n",
    "write_to_csv(payment_details_all, 'C:/Users/AN000/OneDrive/Desktop/Masters Program/Trimester 2 (13 Nov - 24 Feb 2024)/MH6341 - Data Management & Business [1.5 AU]/Team Project (Due 24 Feb)/payment_details_2022.csv')"
   ]
  },
  {
   "cell_type": "code",
   "execution_count": null,
   "id": "86593f76",
   "metadata": {},
   "outputs": [],
   "source": []
  },
  {
   "cell_type": "code",
   "execution_count": null,
   "id": "79d75b6e",
   "metadata": {},
   "outputs": [],
   "source": []
  }
 ],
 "metadata": {
  "kernelspec": {
   "display_name": "Python 3 (ipykernel)",
   "language": "python",
   "name": "python3"
  },
  "language_info": {
   "codemirror_mode": {
    "name": "ipython",
    "version": 3
   },
   "file_extension": ".py",
   "mimetype": "text/x-python",
   "name": "python",
   "nbconvert_exporter": "python",
   "pygments_lexer": "ipython3",
   "version": "3.9.12"
  }
 },
 "nbformat": 4,
 "nbformat_minor": 5
}
